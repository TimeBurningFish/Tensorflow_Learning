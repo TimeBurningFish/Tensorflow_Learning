{
 "cells": [
  {
   "cell_type": "markdown",
   "metadata": {},
   "source": [
    "## 运算\n",
    "\n",
    "* 相同大小 Tensor 之间的任何算术运算都会将运算应用到元素级\n",
    "* 不同大小 Tensor(要求dimension 0 必须相同) 之间的运算叫做广播(broadcasting)\n",
    "* Tensor 与 Scalar(0维 tensor) 间的算术运算会将那个标量值传播到各个元素\n",
    "* Note： TensorFLow 在进行数学运算时，一定要求各个 Tensor 数据类型一致"
   ]
  },
  {
   "cell_type": "code",
   "execution_count": 1,
   "metadata": {},
   "outputs": [],
   "source": [
    "import tensorflow as tf\n",
    "import numpy as np"
   ]
  },
  {
   "cell_type": "markdown",
   "metadata": {},
   "source": [
    "### tf.sign和tf.reduce_sum\n",
    "\n",
    "* tf.reduce_sum(input_tensor,reduction_indices = None,keep_dims = False,name = None) 降维相加\n",
    "* tf.sign(x,name = None)返回x的符号 "
   ]
  },
  {
   "cell_type": "code",
   "execution_count": 26,
   "metadata": {},
   "outputs": [],
   "source": [
    "x = [[1,0,2],[-1,2,4],[5,-5,0],[0,5,4]]\n",
    "x = np.array(x)\n",
    "A = tf.sign(x)\n",
    "B = tf.reduce_sum(A,reduction_indices=1)"
   ]
  },
  {
   "cell_type": "code",
   "execution_count": 27,
   "metadata": {},
   "outputs": [
    {
     "name": "stdout",
     "output_type": "stream",
     "text": [
      "Ashape (4, 3)\n",
      "Bshape (4,)\n"
     ]
    }
   ],
   "source": [
    "print('Ashape',A.shape)\n",
    "print('Bshape',B.shape)"
   ]
  },
  {
   "cell_type": "code",
   "execution_count": 28,
   "metadata": {},
   "outputs": [
    {
     "name": "stdout",
     "output_type": "stream",
     "text": [
      "[[ 1  0  1]\n",
      " [-1  1  1]\n",
      " [ 1 -1  0]\n",
      " [ 0  1  1]]\n",
      "[2 1 0 2]\n",
      "Ashape (4, 3)\n",
      "Bshape (4,)\n"
     ]
    }
   ],
   "source": [
    "with tf.Session() as sess:\n",
    "    print(sess.run(A))\n",
    "    print(sess.run(B))\n",
    "    print('Ashape',A.shape)\n",
    "    print('Bshape',B.shape)"
   ]
  },
  {
   "cell_type": "code",
   "execution_count": 29,
   "metadata": {},
   "outputs": [
    {
     "name": "stdout",
     "output_type": "stream",
     "text": [
      "[[ 1  0  1]\n",
      " [-1  1  1]\n",
      " [ 1 -1  0]\n",
      " [ 0  1  1]]\n",
      "[1 1 3]\n",
      "Ashape (4, 3)\n",
      "Bshape (3,)\n"
     ]
    }
   ],
   "source": [
    "A = tf.sign(x)\n",
    "B = tf.reduce_sum(A,reduction_indices=0)\n",
    "with tf.Session() as sess:\n",
    "    print(sess.run(A))\n",
    "    print(sess.run(B))\n",
    "    print('Ashape',A.shape)\n",
    "    print('Bshape',B.shape)"
   ]
  },
  {
   "cell_type": "code",
   "execution_count": 30,
   "metadata": {},
   "outputs": [
    {
     "name": "stdout",
     "output_type": "stream",
     "text": [
      "[[ 1  0  1]\n",
      " [-1  1  1]\n",
      " [ 1 -1  0]\n",
      " [ 0  1  1]]\n",
      "5\n",
      "Ashape (4, 3)\n",
      "Bshape ()\n"
     ]
    }
   ],
   "source": [
    "A = tf.sign(x)\n",
    "B = tf.reduce_sum(A,reduction_indices=[0,1])\n",
    "with tf.Session() as sess:\n",
    "    print(sess.run(A))\n",
    "    print(sess.run(B))\n",
    "    print('Ashape',A.shape)\n",
    "    print('Bshape',B.shape)"
   ]
  },
  {
   "cell_type": "markdown",
   "metadata": {},
   "source": [
    "##### 分析\n",
    "* resuce_sum可以对矩阵的某一，或者某几维度进行相加\n",
    "* 其中 可以认为 reduction_indices的输入维度是几，对应输出矩阵的该位置的维度就会降维0\n",
    "    如：shape = （4,3）的矩阵 reduce_sum with reduction_indices = 1 输出矩阵维度为 (4,)"
   ]
  },
  {
   "cell_type": "code",
   "execution_count": 31,
   "metadata": {},
   "outputs": [
    {
     "name": "stdout",
     "output_type": "stream",
     "text": [
      "Ashape (2, 2, 3)\n",
      "Bshape (2, 3)\n"
     ]
    }
   ],
   "source": [
    "x = [[[1,0,2],[-1,2,4]],[[5,-5,0],[0,5,4]]]\n",
    "x = np.array(x)\n",
    "A = tf.sign(x)\n",
    "B = tf.reduce_sum(A,reduction_indices=1)\n",
    "\n",
    "print('Ashape',A.shape)\n",
    "print('Bshape',B.shape)"
   ]
  },
  {
   "cell_type": "code",
   "execution_count": 32,
   "metadata": {},
   "outputs": [
    {
     "name": "stdout",
     "output_type": "stream",
     "text": [
      "[[[ 1  0  1]\n",
      "  [-1  1  1]]\n",
      "\n",
      " [[ 1 -1  0]\n",
      "  [ 0  1  1]]]\n",
      "[[0 1 2]\n",
      " [1 0 1]]\n"
     ]
    }
   ],
   "source": [
    "with tf.Session() as sess:\n",
    "    print(sess.run(A))\n",
    "    print(sess.run(B))"
   ]
  },
  {
   "cell_type": "markdown",
   "metadata": {},
   "source": [
    "### + - × /\n",
    "* 分别对应 add subtract multiply divide(div,div支持不同维度的除法)\n",
    "* 同样支持符号直接运算"
   ]
  },
  {
   "cell_type": "code",
   "execution_count": 55,
   "metadata": {},
   "outputs": [
    {
     "name": "stdout",
     "output_type": "stream",
     "text": [
      "<tf.Variable 'x_5:0' shape=(2, 2) dtype=int32_ref>\n"
     ]
    }
   ],
   "source": [
    "x = [[3,2],[-1,5]]\n",
    "x = tf.Variable(x,name = 'x')\n",
    "x_sign = tf.sign(x)\n",
    "print(x)"
   ]
  },
  {
   "cell_type": "code",
   "execution_count": 56,
   "metadata": {},
   "outputs": [
    {
     "name": "stdout",
     "output_type": "stream",
     "text": [
      "y [[ 4  3]\n",
      " [-2  6]] \n",
      "\n",
      "y [[2 1]\n",
      " [0 4]] \n",
      "\n",
      "y [[3 2]\n",
      " [1 5]] \n",
      "\n",
      "y [[ 0.33333333  0.5       ]\n",
      " [ 1.          0.2       ]] \n",
      "\n",
      "x [2 7] \n",
      "\n",
      "y [[ 0  0]\n",
      " [-1  0]]\n"
     ]
    }
   ],
   "source": [
    "with tf.Session() as sess:\n",
    "    sess.run(tf.global_variables_initializer())\n",
    "    y = x + x_sign\n",
    "    sess.run(y)\n",
    "    print('y',y.eval(),'\\n')\n",
    "    \n",
    "    y = x - x_sign\n",
    "    sess.run(y)\n",
    "    print('y',y.eval(),'\\n')\n",
    "    \n",
    "    y = x * x_sign\n",
    "    sess.run(y)\n",
    "    print('y',y.eval(),'\\n')\n",
    "    \n",
    "    y = x_sign/x\n",
    "    sess.run(y)\n",
    "    print('y',y.eval(),'\\n')\n",
    "    \n",
    "    x = tf.reduce_sum(x,0)\n",
    "    print('x',x.eval(),'\\n')\n",
    "    y = tf.div(x_sign,x) \n",
    "    sess.run(y)\n",
    "    print('y',y.eval())"
   ]
  },
  {
   "cell_type": "markdown",
   "metadata": {},
   "source": [
    "#### 其他运算表"
   ]
  },
  {
   "cell_type": "markdown",
   "metadata": {},
   "source": [
    "##### 算术操作符：+ - * / % \n",
    "    tf.add(x, y, name=None)        # 加法(支持 broadcasting)\n",
    "    tf.subtract(x, y, name=None)   # 减法\n",
    "    tf.multiply(x, y, name=None)   # 乘法\n",
    "    tf.divide(x, y, name=None)     # 浮点除法, 返回浮点数(python3 除法)\n",
    "    tf.mod(x, y, name=None)        # 取余\n",
    "\n",
    "\n",
    "    ##### 幂指对数操作符：^ ^2 ^0.5 e^ ln \n",
    "    tf.pow(x, y, name=None)        # 幂次方\n",
    "    tf.square(x, name=None)        # 平方\n",
    "    tf.sqrt(x, name=None)          # 开根号，必须传入浮点数或复数\n",
    "    tf.exp(x, name=None)           # 计算 e 的次方\n",
    "    tf.log(x, name=None)           # 以 e 为底，必须传入浮点数或复数\n",
    "\n",
    "\n",
    "    ##### 取符号、负、倒数、绝对值、近似、两数中较大/小的\n",
    "    tf.negative(x, name=None)      # 取负(y = -x).\n",
    "    tf.sign(x, name=None)          # 返回 x 的符号\n",
    "    tf.reciprocal(x, name=None)    # 取倒数\n",
    "    tf.abs(x, name=None)           # 求绝对值\n",
    "    tf.round(x, name=None)         # 四舍五入\n",
    "    tf.ceil(x, name=None)          # 向上取整\n",
    "    tf.floor(x, name=None)         # 向下取整\n",
    "    tf.rint(x, name=None)          # 取最接近的整数 \n",
    "    tf.maximum(x, y, name=None)    # 返回两tensor中的最大值 (x > y ? x : y)\n",
    "    tf.minimum(x, y, name=None)    # 返回两tensor中的最小值 (x < y ? x : y)\n",
    "\n",
    "\n",
    "    ##### 三角函数和反三角函数\n",
    "    tf.cos(x, name=None)    \n",
    "    tf.sin(x, name=None)    \n",
    "    tf.tan(x, name=None)    \n",
    "    tf.acos(x, name=None)\n",
    "    tf.asin(x, name=None)\n",
    "    tf.atan(x, name=None)   \n",
    "\n",
    "\n",
    "    ##### 其它\n",
    "    tf.div(x, y, name=None)  # python 2.7 除法, x/y-->int or x/float(y)-->float\n",
    "    tf.truediv(x, y, name=None) # python 3 除法, x/y-->float\n",
    "    tf.floordiv(x, y, name=None)  # python 3 除法, x//y-->int\n",
    "    tf.realdiv(x, y, name=None)\n",
    "    tf.truncatediv(x, y, name=None)\n",
    "    tf.floor_div(x, y, name=None)\n",
    "    tf.truncatemod(x, y, name=None)\n",
    "    tf.floormod(x, y, name=None)\n",
    "    tf.cross(x, y, name=None)\n",
    "    tf.add_n(inputs, name=None)  # inputs: A list of Tensor objects, each with same shape and type\n",
    "    tf.squared_difference(x, y, name=None) "
   ]
  },
  {
   "cell_type": "markdown",
   "metadata": {},
   "source": [
    "### 矩阵运算"
   ]
  },
  {
   "cell_type": "markdown",
   "metadata": {},
   "source": [
    "### 转置，可以通过指定 perm=[1, 0] 来进行轴变换\n",
    "tf.transpose(a, perm=None, name='transpose')"
   ]
  },
  {
   "cell_type": "code",
   "execution_count": 65,
   "metadata": {},
   "outputs": [
    {
     "name": "stdout",
     "output_type": "stream",
     "text": [
      "[[1 3]\n",
      " [2 4]]\n"
     ]
    }
   ],
   "source": [
    "x = [[1,2],[3,4]]\n",
    "y = tf.matrix_transpose(x, name='matrix_transpose')\n",
    "with tf.Session() as sess:\n",
    "    sess.run(y)\n",
    "    print(y.eval())"
   ]
  },
  {
   "cell_type": "markdown",
   "metadata": {},
   "source": [
    "#### 其他主要运算"
   ]
  },
  {
   "cell_type": "markdown",
   "metadata": {},
   "source": [
    "    # 矩阵乘法(tensors of rank >= 2)\n",
    "    tf.matmul(a, b, transpose_a=False, transpose_b=False,    adjoint_a=False, adjoint_b=False, a_is_sparse=False, b_is_sparse=False, name=None)\n",
    "\n",
    "\n",
    "    # 求矩阵的迹\n",
    "    tf.trace(x, name=None)\n",
    "\n",
    "\n",
    "    # 计算方阵行列式的值\n",
    "    tf.matrix_determinant(input, name=None)\n",
    "\n",
    "\n",
    "    # 求解可逆方阵的逆，input 必须为浮点型或复数\n",
    "    tf.matrix_inverse(input, adjoint=None, name=None)\n",
    "\n",
    "\n",
    "    # 奇异值分解\n",
    "    tf.svd(tensor, full_matrices=False, compute_uv=True, name=None)\n",
    "\n",
    "\n",
    "    # QR 分解\n",
    "    tf.qr(input, full_matrices=None, name=None)\n",
    "\n",
    "\n",
    "    # 求张量的范数(默认2)\n",
    "    tf.norm(tensor, ord='euclidean', axis=None, keep_dims=False, name=None)\n",
    "\n",
    "\n",
    "\n",
    "    # 构建一个单位矩阵, 或者 batch 个矩阵，batch_shape 以 list 的形式传入\n",
    "    tf.eye(num_rows, num_columns=None, batch_shape=None, dtype=tf.float32, name=None)\n",
    "    # Construct one identity matrix.\n",
    "    tf.eye(2)\n",
    "    ==> [[1., 0.],\n",
    "         [0., 1.]]\n",
    "\n",
    "    # Construct a batch of 3 identity matricies, each 2 x 2.\n",
    "    # batch_identity[i, :, :] is a 2 x 2 identity matrix, i = 0, 1, 2.\n",
    "    batch_identity = tf.eye(2, batch_shape=[3])\n",
    "\n",
    "    # Construct one 2 x 3 \"identity\" matrix\n",
    "    tf.eye(2, num_columns=3)\n",
    "    ==> [[ 1.,  0.,  0.],\n",
    "         [ 0.,  1.,  0.]]\n",
    "\n",
    "\n",
    "    # 构建一个对角矩阵，rank = 2*rank(diagonal)\n",
    "    tf.diag(diagonal, name=None)\n",
    "    # 'diagonal' is [1, 2, 3, 4]\n",
    "    tf.diag(diagonal) ==> [[1, 0, 0, 0]\n",
    "                           [0, 2, 0, 0]\n",
    "                           [0, 0, 3, 0]\n",
    "                           [0, 0, 0, 4]]\n",
    "\n",
    "\n",
    "\n",
    "    # 其它\n",
    "    tf.diag_part\n",
    "    tf.matrix_diag\n",
    "    tf.matrix_diag_part\n",
    "    tf.matrix_band_part\n",
    "    tf.matrix_set_diag\n",
    "    tf.cholesky\n",
    "    tf.cholesky_solve\n",
    "    tf.matrix_solve\n",
    "    tf.matrix_triangular_solve\n",
    "    tf.matrix_solve_ls\n",
    "    tf.self_adjoint_eig\n",
    "    tf.self_adjoint_eigvals"
   ]
  }
 ],
 "metadata": {
  "kernelspec": {
   "display_name": "Python 2",
   "language": "python",
   "name": "python2"
  },
  "language_info": {
   "codemirror_mode": {
    "name": "ipython",
    "version": 3
   },
   "file_extension": ".py",
   "mimetype": "text/x-python",
   "name": "python",
   "nbconvert_exporter": "python",
   "pygments_lexer": "ipython3",
   "version": "3.6.5"
  }
 },
 "nbformat": 4,
 "nbformat_minor": 2
}
