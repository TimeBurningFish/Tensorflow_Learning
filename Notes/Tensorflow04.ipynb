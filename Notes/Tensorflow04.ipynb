{
 "cells": [
  {
   "cell_type": "markdown",
   "metadata": {},
   "source": [
    "### 线性回归"
   ]
  },
  {
   "cell_type": "code",
   "execution_count": 2,
   "metadata": {},
   "outputs": [
    {
     "name": "stderr",
     "output_type": "stream",
     "text": [
      "/home/blueberry/anaconda3/lib/python3.6/importlib/_bootstrap.py:219: RuntimeWarning: numpy.dtype size changed, may indicate binary incompatibility. Expected 96, got 88\n",
      "  return f(*args, **kwds)\n"
     ]
    }
   ],
   "source": [
    "import numpy as np\n",
    "import matplotlib.pyplot as plt\n",
    "import tensorflow as tf\n",
    "import xlrd"
   ]
  },
  {
   "cell_type": "code",
   "execution_count": 1,
   "metadata": {},
   "outputs": [],
   "source": [
    "path = '/home/blueberry/data/slr05.xls'"
   ]
  },
  {
   "cell_type": "markdown",
   "metadata": {},
   "source": [
    "#### 数据加载"
   ]
  },
  {
   "cell_type": "code",
   "execution_count": 5,
   "metadata": {},
   "outputs": [],
   "source": [
    "book = xlrd.open_workbook(path,encoding_override = 'utf-8')\n",
    "sheet = book.sheet_by_index(0)\n",
    "data = np.asarray([sheet.row_values(i) for i in range(1,sheet.nrows)])\n",
    "n_samples = sheet.nrows - 1"
   ]
  },
  {
   "cell_type": "code",
   "execution_count": 6,
   "metadata": {},
   "outputs": [
    {
     "data": {
      "text/plain": [
       "array([[   6.2,   29. ],\n",
       "       [   9.5,   44. ],\n",
       "       [  10.5,   36. ],\n",
       "       [   7.7,   37. ],\n",
       "       [   8.6,   53. ],\n",
       "       [  34.1,   68. ],\n",
       "       [  11. ,   75. ],\n",
       "       [   6.9,   18. ],\n",
       "       [   7.3,   31. ],\n",
       "       [  15.1,   25. ],\n",
       "       [  29.1,   34. ],\n",
       "       [   2.2,   14. ],\n",
       "       [   5.7,   11. ],\n",
       "       [   2. ,   11. ],\n",
       "       [   2.5,   22. ],\n",
       "       [   4. ,   16. ],\n",
       "       [   5.4,   27. ],\n",
       "       [   2.2,    9. ],\n",
       "       [   7.2,   29. ],\n",
       "       [  15.1,   30. ],\n",
       "       [  16.5,   40. ],\n",
       "       [  18.4,   32. ],\n",
       "       [  36.2,   41. ],\n",
       "       [  39.7,  147. ],\n",
       "       [  18.5,   22. ],\n",
       "       [  23.3,   29. ],\n",
       "       [  12.2,   46. ],\n",
       "       [   5.6,   23. ],\n",
       "       [  21.8,    4. ],\n",
       "       [  21.6,   31. ],\n",
       "       [   9. ,   39. ],\n",
       "       [   3.6,   15. ],\n",
       "       [   5. ,   32. ],\n",
       "       [  28.6,   27. ],\n",
       "       [  17.4,   32. ],\n",
       "       [  11.3,   34. ],\n",
       "       [   3.4,   17. ],\n",
       "       [  11.9,   46. ],\n",
       "       [  10.5,   42. ],\n",
       "       [  10.7,   43. ],\n",
       "       [  10.8,   34. ],\n",
       "       [   4.8,   19. ]])"
      ]
     },
     "execution_count": 6,
     "metadata": {},
     "output_type": "execute_result"
    }
   ],
   "source": [
    "data"
   ]
  },
  {
   "cell_type": "markdown",
   "metadata": {},
   "source": [
    "#### 描述输出"
   ]
  },
  {
   "cell_type": "code",
   "execution_count": 8,
   "metadata": {},
   "outputs": [],
   "source": [
    "X = tf.placeholder(tf.float32,name = 'X')\n",
    "Y = tf.placeholder(tf.float32,name = 'Y')"
   ]
  },
  {
   "cell_type": "markdown",
   "metadata": {},
   "source": [
    "#### 参数定义"
   ]
  },
  {
   "cell_type": "code",
   "execution_count": 10,
   "metadata": {},
   "outputs": [],
   "source": [
    "w = tf.Variable(0.0 , name = 'weights')\n",
    "b = tf.Variable(0.0 , name = 'bias')"
   ]
  },
  {
   "cell_type": "markdown",
   "metadata": {},
   "source": [
    "#### 定义流程"
   ]
  },
  {
   "cell_type": "code",
   "execution_count": 11,
   "metadata": {},
   "outputs": [],
   "source": [
    "Y_predict = X * w + b"
   ]
  },
  {
   "cell_type": "markdown",
   "metadata": {},
   "source": [
    "#### 定义loss"
   ]
  },
  {
   "cell_type": "code",
   "execution_count": 12,
   "metadata": {},
   "outputs": [],
   "source": [
    "loss = tf.square(Y - Y_predict,name = 'loss')"
   ]
  },
  {
   "cell_type": "markdown",
   "metadata": {},
   "source": [
    "#### 优化选项"
   ]
  },
  {
   "cell_type": "code",
   "execution_count": 13,
   "metadata": {},
   "outputs": [],
   "source": [
    "optimizer = tf.train.GradientDescentOptimizer(learning_rate=0.001).minimize(loss)"
   ]
  },
  {
   "cell_type": "markdown",
   "metadata": {},
   "source": [
    "#### 开始训练"
   ]
  },
  {
   "cell_type": "code",
   "execution_count": 15,
   "metadata": {},
   "outputs": [],
   "source": [
    "with tf.Session() as sess:\n",
    "    sess.run(tf.global_variables_initializer())\n",
    "    for i in range(100): ##epoches\n",
    "        for x,y in data:\n",
    "            sess.run(optimizer,feed_dict = {X:x,Y:y})\n",
    "    w_value,b_value = sess.run([w,b])"
   ]
  },
  {
   "cell_type": "code",
   "execution_count": 16,
   "metadata": {},
   "outputs": [
    {
     "data": {
      "text/plain": [
       "(1.7183813, 15.789157)"
      ]
     },
     "execution_count": 16,
     "metadata": {},
     "output_type": "execute_result"
    }
   ],
   "source": [
    "(w_value,b_value)"
   ]
  },
  {
   "cell_type": "code",
   "execution_count": null,
   "metadata": {},
   "outputs": [],
   "source": []
  }
 ],
 "metadata": {
  "kernelspec": {
   "display_name": "Python 2",
   "language": "python",
   "name": "python2"
  },
  "language_info": {
   "codemirror_mode": {
    "name": "ipython",
    "version": 3
   },
   "file_extension": ".py",
   "mimetype": "text/x-python",
   "name": "python",
   "nbconvert_exporter": "python",
   "pygments_lexer": "ipython3",
   "version": "3.6.5"
  }
 },
 "nbformat": 4,
 "nbformat_minor": 2
}
