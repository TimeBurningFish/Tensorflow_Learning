{
 "cells": [
  {
   "cell_type": "markdown",
   "metadata": {},
   "source": [
    "### Eval a Variable"
   ]
  },
  {
   "cell_type": "code",
   "execution_count": 1,
   "metadata": {},
   "outputs": [],
   "source": [
    "import tensorflow as tf"
   ]
  },
  {
   "cell_type": "code",
   "execution_count": 9,
   "metadata": {},
   "outputs": [
    {
     "name": "stdout",
     "output_type": "stream",
     "text": [
      "[[-0.9333294  -0.76904911  0.67041016 ..., -0.68751013 -0.15033188\n",
      "   1.66772568]\n",
      " [-0.0196689   0.25005317 -1.54600191 ..., -0.18916191 -0.85721016\n",
      "   0.44131839]\n",
      " [ 1.07874906 -1.00346518 -0.90415734 ..., -1.1282773   0.04739946\n",
      "   1.3727423 ]\n",
      " ..., \n",
      " [-0.92849791  0.3688359  -0.35185936 ...,  0.53833348 -0.05924286\n",
      "  -0.35708678]\n",
      " [ 0.81361067  0.12618698 -0.09678678 ..., -0.38097253 -0.12842479\n",
      "   1.44836724]\n",
      " [ 0.28962576  0.04289764 -1.92098224 ..., -1.59121358  1.82206237\n",
      "   0.3940616 ]]\n"
     ]
    }
   ],
   "source": [
    "W = tf.Variable(tf.truncated_normal([700,10]))\n",
    "with tf.Session() as sess:\n",
    "    sess.run(W.initializer)\n",
    "    print (sess.run(W))##here sess.run(W) equals to W.eval()"
   ]
  },
  {
   "cell_type": "code",
   "execution_count": 3,
   "metadata": {},
   "outputs": [
    {
     "data": {
      "text/plain": [
       "<tf.Variable 'Variable:0' shape=(700, 10) dtype=float32_ref>"
      ]
     },
     "execution_count": 3,
     "metadata": {},
     "output_type": "execute_result"
    }
   ],
   "source": []
  },
  {
   "cell_type": "code",
   "execution_count": null,
   "metadata": {},
   "outputs": [],
   "source": []
  }
 ],
 "metadata": {
  "kernelspec": {
   "display_name": "Python 2",
   "language": "python",
   "name": "python2"
  },
  "language_info": {
   "codemirror_mode": {
    "name": "ipython",
    "version": 3
   },
   "file_extension": ".py",
   "mimetype": "text/x-python",
   "name": "python",
   "nbconvert_exporter": "python",
   "pygments_lexer": "ipython3",
   "version": "3.6.5"
  }
 },
 "nbformat": 4,
 "nbformat_minor": 2
}
