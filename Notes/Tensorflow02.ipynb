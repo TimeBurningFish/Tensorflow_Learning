{
 "cells": [
  {
   "cell_type": "markdown",
   "metadata": {},
   "source": [
    "## 流程缩影"
   ]
  },
  {
   "cell_type": "code",
   "execution_count": 1,
   "metadata": {},
   "outputs": [
    {
     "name": "stdout",
     "output_type": "stream",
     "text": [
      "9\n"
     ]
    }
   ],
   "source": [
    "import tensorflow as tf\n",
    "\n",
    "# 定义‘符号’变量，也称为占位符\n",
    "a = tf.placeholder(\"int32\")\n",
    "b = tf.placeholder(\"int32\")\n",
    "\n",
    "# 构造一个op节点\n",
    "y = tf.multiply(a, b)\n",
    "\n",
    "# 建立会话\n",
    "sess = tf.Session()\n",
    "\n",
    "# 运行会话，输入数据，并计算节点，同时打印结果\n",
    "print(sess.run(y, feed_dict={a: 3, b: 3}))\n",
    "\n",
    "# 任务完成, 关闭会话.\n",
    "sess.close()"
   ]
  },
  {
   "cell_type": "markdown",
   "metadata": {},
   "source": [
    "## 变量\n",
    "#### 创建变量\n",
    "name_variable = tf.Variable(value, name)\n",
    "\n",
    "#### 初始化单个变量\n",
    "init_op=variable.initializer()\n",
    "\n",
    "#### 初始化所有变量\n",
    "init_op=tf.initialize_all_variables()\n",
    "\n",
    "#### 更新操作\n",
    "update_op=tf.assign(variable to be updated, new_value)\n",
    "\n",
    "注意：tensorflow variable is class ， constant is an op"
   ]
  },
  {
   "cell_type": "markdown",
   "metadata": {},
   "source": [
    "### 构建图"
   ]
  },
  {
   "cell_type": "code",
   "execution_count": 9,
   "metadata": {},
   "outputs": [],
   "source": [
    "# 创建作为第一个常量op,该op会被加入到默认的图中\n",
    "# 1*2的矩阵,构造器的返回值代表该常量op的返回值\n",
    "matrix_1 = tf.constant([[3, 3]])\n",
    "\n",
    "# 创建第二个常量op,该op会被加入到默认的图中\n",
    "# 2*1的矩阵\n",
    "matrix_2 = tf.constant([[2], [2]])\n",
    "\n",
    "# 创建第三个op,为矩阵乘法op,接受matrix_1和matrix_2作为输入,product代表乘法矩阵结果\n",
    "product = tf.matmul(matrix_1, matrix_2)\n",
    "\n",
    "a = tf.placeholder(\"int32\")\n",
    "b = tf.placeholder(\"int32\")\n",
    "\n",
    "add = tf.add(a,b)\n",
    "output = tf.multiply(add,product)"
   ]
  },
  {
   "cell_type": "markdown",
   "metadata": {},
   "source": [
    "### 执行阶段"
   ]
  },
  {
   "cell_type": "code",
   "execution_count": 15,
   "metadata": {},
   "outputs": [
    {
     "name": "stdout",
     "output_type": "stream",
     "text": [
      "Tensor(\"Mul_2:0\", dtype=int32)\n"
     ]
    }
   ],
   "source": [
    "# 创建会话\n",
    "sess = tf.Session()\n",
    "\n",
    "# 赋值操作\n",
    "sess.run([output], feed_dict={a:1, b:2})\n",
    "\n",
    "print(output)\n",
    "# 用创建的会话执行操作\n",
    "# sess.run(op)\n",
    "\n",
    "# 取值操作\n",
    "\n",
    "# 关闭会话\n",
    "sess.close()"
   ]
  },
  {
   "cell_type": "markdown",
   "metadata": {},
   "source": [
    "### 模型的保存与加载"
   ]
  },
  {
   "cell_type": "code",
   "execution_count": 16,
   "metadata": {},
   "outputs": [],
   "source": [
    "def save_model():\n",
    "    v1 = tf.Variable(tf.random_normal([1, 2]), name=\"v1\")\n",
    "    v2 = tf.Variable(tf.random_normal([2, 3]), name=\"v2\")\n",
    "    init_op = tf.global_variables_initializer()\n",
    "    saver = tf.train.Saver()\n",
    "    with tf.Session() as sess:\n",
    "        sess.run(init_op)\n",
    "        saver_path = saver.save(sess, \"./model.ckpt\")\n",
    "        print(\"model saved in file: \", saver_path)\n",
    "###用同一个Saver对象来恢复变量，注意，当你从文件恢复变量是，不需要对它进初始化，否则报错\n",
    "    v1 = tf.Variable(tf.random_normal([1, 2]), name=\"v1\")\n",
    "    v2 = tf.Variable(tf.random_normal([2, 3]), name=\"v2\")\n",
    "    saver = tf.train.Saver()\n",
    "    with tf.Session() as sess:\n",
    "        saver.restore(sess,\"./model.ckpt\")\n",
    "        print(\"mode restored\")"
   ]
  },
  {
   "cell_type": "code",
   "execution_count": 3,
   "metadata": {},
   "outputs": [
    {
     "data": {
      "text/plain": [
       "'1.3.0'"
      ]
     },
     "execution_count": 3,
     "metadata": {},
     "output_type": "execute_result"
    }
   ],
   "source": [
    "import tensorflow as tf\n",
    "tf.__version__"
   ]
  },
  {
   "cell_type": "code",
   "execution_count": null,
   "metadata": {},
   "outputs": [],
   "source": []
  }
 ],
 "metadata": {
  "kernelspec": {
   "display_name": "Python 2",
   "language": "python",
   "name": "python2"
  },
  "language_info": {
   "codemirror_mode": {
    "name": "ipython",
    "version": 3
   },
   "file_extension": ".py",
   "mimetype": "text/x-python",
   "name": "python",
   "nbconvert_exporter": "python",
   "pygments_lexer": "ipython3",
   "version": "3.6.5"
  }
 },
 "nbformat": 4,
 "nbformat_minor": 2
}
